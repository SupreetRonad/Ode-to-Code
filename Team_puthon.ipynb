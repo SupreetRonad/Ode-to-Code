{
  "nbformat": 4,
  "nbformat_minor": 0,
  "metadata": {
    "colab": {
      "name": "Team_puthon.ipynb",
      "provenance": [],
      "collapsed_sections": [],
      "include_colab_link": true
    },
    "kernelspec": {
      "name": "python3",
      "display_name": "Python 3"
    },
    "language_info": {
      "name": "python"
    }
  },
  "cells": [
    {
      "cell_type": "markdown",
      "metadata": {
        "id": "view-in-github",
        "colab_type": "text"
      },
      "source": [
        "<a href=\"https://colab.research.google.com/github/SupreetRonad/Ode-to-Code/blob/main/Team_puthon.ipynb\" target=\"_parent\"><img src=\"https://colab.research.google.com/assets/colab-badge.svg\" alt=\"Open In Colab\"/></a>"
      ]
    },
    {
      "cell_type": "code",
      "metadata": {
        "colab": {
          "base_uri": "https://localhost:8080/"
        },
        "id": "83qVT1gI8O-i",
        "outputId": "1edb8f91-b1df-4b29-feba-5fa2bba44e1d"
      },
      "source": [
        "!pip install PyPDF2"
      ],
      "execution_count": null,
      "outputs": [
        {
          "output_type": "stream",
          "text": [
            "Requirement already satisfied: PyPDF2 in /usr/local/lib/python3.7/dist-packages (1.26.0)\n"
          ],
          "name": "stdout"
        }
      ]
    },
    {
      "cell_type": "code",
      "metadata": {
        "colab": {
          "base_uri": "https://localhost:8080/"
        },
        "id": "QQJ6K1jjCXE6",
        "outputId": "62dcc4b8-eb9e-4be9-b92d-d218fb567b10"
      },
      "source": [
        "import nltk\n",
        "nltk.download('stopwords')"
      ],
      "execution_count": null,
      "outputs": [
        {
          "output_type": "stream",
          "text": [
            "[nltk_data] Downloading package stopwords to /root/nltk_data...\n",
            "[nltk_data]   Package stopwords is already up-to-date!\n"
          ],
          "name": "stdout"
        },
        {
          "output_type": "execute_result",
          "data": {
            "text/plain": [
              "True"
            ]
          },
          "metadata": {
            "tags": []
          },
          "execution_count": 47
        }
      ]
    },
    {
      "cell_type": "code",
      "metadata": {
        "colab": {
          "base_uri": "https://localhost:8080/"
        },
        "id": "nnioYEEECnnU",
        "outputId": "a188910e-20d0-4a70-ab4d-65ba968d88e3"
      },
      "source": [
        "nltk.download('averaged_perceptron_tagger')\n",
        "nltk.download('wordnet')"
      ],
      "execution_count": null,
      "outputs": [
        {
          "output_type": "stream",
          "text": [
            "[nltk_data] Downloading package averaged_perceptron_tagger to\n",
            "[nltk_data]     /root/nltk_data...\n",
            "[nltk_data]   Package averaged_perceptron_tagger is already up-to-\n",
            "[nltk_data]       date!\n",
            "[nltk_data] Downloading package wordnet to /root/nltk_data...\n",
            "[nltk_data]   Package wordnet is already up-to-date!\n"
          ],
          "name": "stdout"
        },
        {
          "output_type": "execute_result",
          "data": {
            "text/plain": [
              "True"
            ]
          },
          "metadata": {
            "tags": []
          },
          "execution_count": 48
        }
      ]
    },
    {
      "cell_type": "code",
      "metadata": {
        "id": "NbTImyeBBqIo"
      },
      "source": [
        "from nltk.corpus import wordnet\n",
        "\n",
        "def get_wordnet_pos(pos_tag):\n",
        "    if pos_tag.startswith('J'):\n",
        "        return wordnet.ADJ\n",
        "    elif pos_tag.startswith('V'):\n",
        "        return wordnet.VERB\n",
        "    elif pos_tag.startswith('N'):\n",
        "        return wordnet.NOUN\n",
        "    elif pos_tag.startswith('R'):\n",
        "        return wordnet.ADV\n",
        "    else:\n",
        "        return wordnet.NOUN\n",
        "    \n",
        "import string\n",
        "from nltk import pos_tag\n",
        "from nltk.corpus import stopwords\n",
        "from nltk.tokenize import WhitespaceTokenizer\n",
        "from nltk.stem import WordNetLemmatizer\n",
        "\n",
        "def clean_text(text):\n",
        "    # lower text\n",
        "    text = text.lower()\n",
        "    # tokenize text and remove puncutation\n",
        "    text = [word.strip(string.punctuation) for word in text.split(\" \")]\n",
        "    # remove words that contain numbers\n",
        "    text = [word for word in text if not any(c.isdigit() for c in word)]\n",
        "    # remove stop words\n",
        "    stop = stopwords.words('english')\n",
        "    text = [x for x in text if x not in stop]\n",
        "    # remove empty tokens\n",
        "    text = [t for t in text if len(t) > 0]\n",
        "    # pos tag text\n",
        "    pos_tags = pos_tag(text)\n",
        "    # lemmatize text\n",
        "    text = [WordNetLemmatizer().lemmatize(t[0], get_wordnet_pos(t[1])) for t in pos_tags]\n",
        "    # remove words with only one letter\n",
        "    text = [t for t in text if len(t) > 1]\n",
        "    # join all\n",
        "    text = \" \".join(text)\n",
        "    return(text)\n",
        "\n"
      ],
      "execution_count": null,
      "outputs": []
    },
    {
      "cell_type": "code",
      "metadata": {
        "id": "6eWGNva49frX",
        "colab": {
          "base_uri": "https://localhost:8080/"
        },
        "outputId": "4f4ceb0b-a971-4a96-d565-898400fc0985"
      },
      "source": [
        "list1= []\n",
        "file1 = open(r'message.txt',\"r\")\n",
        "x = file1.read().split()\n",
        "for i in x:\n",
        "  if i.isalpha():\n",
        "    list1.append(i.lower())\n",
        "\n",
        "\n",
        "dict_keywords={}\n",
        "for i in list1:\n",
        "  dict_keywords[i]=0\n",
        "count = 0\n",
        "print(dict_keywords)\n",
        "print(len(dict_keywords))"
      ],
      "execution_count": null,
      "outputs": [
        {
          "output_type": "stream",
          "text": [
            "{'accident': 0, 'fluid': 0, 'resuscitation': 0, 'perforation': 0, 'accidentally': 0, 'hallucinations': 0, 'pneumothorax': 0, 'acute': 0, 'renal': 0, 'failure': 0, 'heel': 0, 'ulcer': 0, 'polypharmacy': 0, 'after': 0, 'surgery': 0, 'hematoma': 0, 'postop': 0, 'the': 0, 'operation': 0, 'hemorrhage': 0, 'postoperative': 0, 'agitation': 0, 'hospital': 0, 'acquired': 0, 'pressure': 0, 'sore': 0, 'allergic': 0, 'hyperglycemia': 0, 'reaction': 0, 'hypervolemia': 0, 'ptx': 0, 'aspiration': 0, 'pneumonia': 0, 'hypoglycemia': 0, 'rash': 0, 'bed': 0, 'hypotension': 0, 'ccu': 0, 'hypoxemia': 0, 'reopen': 0, 'chest': 0, 'tube': 0, 'hypoxia': 0, 'reopening': 0, 'clostridium': 0, 'difficile': 0, 'icu': 0, 'required': 0, 'fluids': 0, 'complicated': 0, 'iv': 0, 'infection': 0, 'respiratory': 0, 'distress': 0, 'complication': 0, 'sepsis': 0, 'laceration': 0, 'rupture': 0, 'death': 0, 'lethargic': 0, 'sedated': 0, 'decubiti': 0, 'line': 0, 'shortness': 0, 'of': 0, 'breath': 0, 'decubitus': 0, 'sicu': 0, 'deep': 0, 'vein': 0, 'thrombosis': 0, 'low': 0, 'sugars': 0, 'skin': 0, 'delirium': 0, 'medicine': 0, 'consult': 0, 'slipped': 0, 'desaturation': 0, 'mental': 0, 'status': 0, 'somnolent': 0, 'died': 0, 'micu': 0, 'subtherapeutic': 0, 'discontinued': 0, 'mistake': 0, 'supratherapeutic': 0, 'dissection': 0, 'mistakenly': 0, 'dka': 0, 'nonresponsive': 0, 'syncopy': 0, 'drop': 0, 'nosocomial': 0, 'telemetry': 0, 'dropped': 0, 'nsicu': 0, 'transfer': 0, 'drug': 0, 'eruption': 0, 'od': 0, 'transferred': 0, 'operating': 0, 'room': 0, 'transfusion': 0, 'error': 0, 'or': 0, 'unresponsive': 0, 'expired': 0, 'overdose': 0, 'volume': 0, 'overload': 0, 'wet': 0, 'fall': 0, 'oversedation': 0, 'wound': 0, 'fell': 0, 'packed': 0, 'rbc': 0}\n",
            "120\n"
          ],
          "name": "stdout"
        }
      ]
    },
    {
      "cell_type": "code",
      "metadata": {
        "id": "t_spHJseT9fG"
      },
      "source": [
        "import PyPDF2\n",
        "\n",
        "pdfFileObj = open('/content/mb-das-may-2011.pdf', 'rb')\n",
        "\n",
        "pdfReader = PyPDF2.PdfFileReader(pdfFileObj)\n",
        "\n",
        "pdf_data = []\n",
        "\n",
        "for i in range(pdfReader.numPages):\n",
        "  pageObj = pdfReader.getPage(i)\n",
        "  my=clean_text(pageObj.extractText()).split()\n",
        "  for i in my:\n",
        "    pdf_data.append(i)\n",
        "  \n",
        "\n",
        "\n",
        "for i in dict_keywords:\n",
        "  if i in pdf_data:\n",
        "    dict_keywords[i]+=1\n",
        "\n",
        "pdfFileObj.close()\n",
        "\n"
      ],
      "execution_count": null,
      "outputs": []
    },
    {
      "cell_type": "code",
      "metadata": {
        "colab": {
          "base_uri": "https://localhost:8080/"
        },
        "id": "e8Yql_b2U8Mh",
        "outputId": "837bd70d-2352-42ac-e291-ea2cc370ecbc"
      },
      "source": [
        "def returnSum(dict):\n",
        "      \n",
        "     sum = 0\n",
        "     for i in dict:\n",
        "           sum = sum + dict[i]\n",
        "       \n",
        "     return sum\n",
        "\n",
        "print(\"Sum :\", returnSum(dict_keywords))"
      ],
      "execution_count": null,
      "outputs": [
        {
          "output_type": "stream",
          "text": [
            "Sum : 16\n"
          ],
          "name": "stdout"
        }
      ]
    },
    {
      "cell_type": "code",
      "metadata": {
        "colab": {
          "base_uri": "https://localhost:8080/"
        },
        "id": "Olp_mCjoVie3",
        "outputId": "4a130ef0-db96-42d8-d226-94bd088b5484"
      },
      "source": [
        "phase_1 = list1\n",
        "phase_2 = pdf_data\n",
        "res = len(set(phase_1) & set(phase_2))\n",
        "res2 = res / float(len(set(phase_1) | set(phase_2))) * 100\n",
        "print(res,res2)"
      ],
      "execution_count": null,
      "outputs": [
        {
          "output_type": "stream",
          "text": [
            "16 3.8369304556354913\n"
          ],
          "name": "stdout"
        }
      ]
    },
    {
      "cell_type": "code",
      "metadata": {
        "id": "ERsU5un5bzEK"
      },
      "source": [
        ""
      ],
      "execution_count": null,
      "outputs": []
    }
  ]
}