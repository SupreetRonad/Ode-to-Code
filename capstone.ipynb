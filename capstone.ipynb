{
  "nbformat": 4,
  "nbformat_minor": 0,
  "metadata": {
    "colab": {
      "name": "Untitled6.ipynb",
      "provenance": [],
      "collapsed_sections": [],
      "include_colab_link": true
    },
    "kernelspec": {
      "name": "python3",
      "display_name": "Python 3"
    },
    "language_info": {
      "name": "python"
    }
  },
  "cells": [
    {
      "cell_type": "markdown",
      "metadata": {
        "id": "view-in-github",
        "colab_type": "text"
      },
      "source": [
        "<a href=\"https://colab.research.google.com/github/SupreetRonad/Ode-to-Code/blob/main/capstone.ipynb\" target=\"_parent\"><img src=\"https://colab.research.google.com/assets/colab-badge.svg\" alt=\"Open In Colab\"/></a>"
      ]
    },
    {
      "cell_type": "code",
      "metadata": {
        "colab": {
          "base_uri": "https://localhost:8080/"
        },
        "id": "83qVT1gI8O-i",
        "outputId": "6ba893fa-acb8-4ae3-8454-cb58ad925741"
      },
      "source": [
        "!pip install PyPDF2"
      ],
      "execution_count": null,
      "outputs": [
        {
          "output_type": "stream",
          "text": [
            "Collecting PyPDF2\n",
            "\u001b[?25l  Downloading https://files.pythonhosted.org/packages/b4/01/68fcc0d43daf4c6bdbc6b33cc3f77bda531c86b174cac56ef0ffdb96faab/PyPDF2-1.26.0.tar.gz (77kB)\n",
            "\r\u001b[K     |████▎                           | 10kB 14.4MB/s eta 0:00:01\r\u001b[K     |████████▌                       | 20kB 20.2MB/s eta 0:00:01\r\u001b[K     |████████████▊                   | 30kB 24.4MB/s eta 0:00:01\r\u001b[K     |█████████████████               | 40kB 23.9MB/s eta 0:00:01\r\u001b[K     |█████████████████████▏          | 51kB 16.1MB/s eta 0:00:01\r\u001b[K     |█████████████████████████▍      | 61kB 13.5MB/s eta 0:00:01\r\u001b[K     |█████████████████████████████▋  | 71kB 12.6MB/s eta 0:00:01\r\u001b[K     |████████████████████████████████| 81kB 6.6MB/s \n",
            "\u001b[?25hBuilding wheels for collected packages: PyPDF2\n",
            "  Building wheel for PyPDF2 (setup.py) ... \u001b[?25l\u001b[?25hdone\n",
            "  Created wheel for PyPDF2: filename=PyPDF2-1.26.0-cp37-none-any.whl size=61102 sha256=1ab69c5db5790ad1e237ba07bcfce7998361ebc9202e56ad58f3969ba0a648b1\n",
            "  Stored in directory: /root/.cache/pip/wheels/53/84/19/35bc977c8bf5f0c23a8a011aa958acd4da4bbd7a229315c1b7\n",
            "Successfully built PyPDF2\n",
            "Installing collected packages: PyPDF2\n",
            "Successfully installed PyPDF2-1.26.0\n"
          ],
          "name": "stdout"
        }
      ]
    },
    {
      "cell_type": "code",
      "metadata": {
        "colab": {
          "base_uri": "https://localhost:8080/"
        },
        "id": "QQJ6K1jjCXE6",
        "outputId": "b37e8399-2bd7-4af6-c33a-3798a763d78d"
      },
      "source": [
        "import nltk\n",
        "nltk.download('stopwords')"
      ],
      "execution_count": null,
      "outputs": [
        {
          "output_type": "stream",
          "text": [
            "[nltk_data] Downloading package stopwords to /root/nltk_data...\n",
            "[nltk_data]   Unzipping corpora/stopwords.zip.\n"
          ],
          "name": "stdout"
        },
        {
          "output_type": "execute_result",
          "data": {
            "text/plain": [
              "True"
            ]
          },
          "metadata": {
            "tags": []
          },
          "execution_count": 5
        }
      ]
    },
    {
      "cell_type": "code",
      "metadata": {
        "colab": {
          "base_uri": "https://localhost:8080/"
        },
        "id": "nnioYEEECnnU",
        "outputId": "df63d0f6-df8e-45e4-fb22-1118ee0584a8"
      },
      "source": [
        "nltk.download('averaged_perceptron_tagger')\n",
        "nltk.download('wordnet')"
      ],
      "execution_count": null,
      "outputs": [
        {
          "output_type": "stream",
          "text": [
            "[nltk_data] Downloading package averaged_perceptron_tagger to\n",
            "[nltk_data]     /root/nltk_data...\n",
            "[nltk_data]   Unzipping taggers/averaged_perceptron_tagger.zip.\n",
            "[nltk_data] Downloading package wordnet to /root/nltk_data...\n",
            "[nltk_data]   Unzipping corpora/wordnet.zip.\n"
          ],
          "name": "stdout"
        },
        {
          "output_type": "execute_result",
          "data": {
            "text/plain": [
              "True"
            ]
          },
          "metadata": {
            "tags": []
          },
          "execution_count": 6
        }
      ]
    },
    {
      "cell_type": "code",
      "metadata": {
        "id": "NbTImyeBBqIo"
      },
      "source": [
        "from nltk.corpus import wordnet\n",
        "\n",
        "def get_wordnet_pos(pos_tag):\n",
        "    if pos_tag.startswith('J'):\n",
        "        return wordnet.ADJ\n",
        "    elif pos_tag.startswith('V'):\n",
        "        return wordnet.VERB\n",
        "    elif pos_tag.startswith('N'):\n",
        "        return wordnet.NOUN\n",
        "    elif pos_tag.startswith('R'):\n",
        "        return wordnet.ADV\n",
        "    else:\n",
        "        return wordnet.NOUN\n",
        "    \n",
        "import string\n",
        "from nltk import pos_tag\n",
        "from nltk.corpus import stopwords\n",
        "from nltk.tokenize import WhitespaceTokenizer\n",
        "from nltk.stem import WordNetLemmatizer\n",
        "\n",
        "def clean_text(text):\n",
        "    # lower text\n",
        "    text = text.lower()\n",
        "    # tokenize text and remove puncutation\n",
        "    text = [word.strip(string.punctuation) for word in text.split(\" \")]\n",
        "    # remove words that contain numbers\n",
        "    text = [word for word in text if not any(c.isdigit() for c in word)]\n",
        "    # remove stop words\n",
        "    stop = stopwords.words('english')\n",
        "    text = [x for x in text if x not in stop]\n",
        "    # remove empty tokens\n",
        "    text = [t for t in text if len(t) > 0]\n",
        "    # pos tag text\n",
        "    pos_tags = pos_tag(text)\n",
        "    # lemmatize text\n",
        "    text = [WordNetLemmatizer().lemmatize(t[0], get_wordnet_pos(t[1])) for t in pos_tags]\n",
        "    # remove words with only one letter\n",
        "    text = [t for t in text if len(t) > 1]\n",
        "    # join all\n",
        "    text = \" \".join(text)\n",
        "    return(text)\n",
        "\n"
      ],
      "execution_count": null,
      "outputs": []
    },
    {
      "cell_type": "code",
      "metadata": {
        "colab": {
          "base_uri": "https://localhost:8080/"
        },
        "id": "Iyex18wS68Cp",
        "outputId": "5778035a-a7b9-4012-de64-5a102342bb4e"
      },
      "source": [
        "# importing required modules\n",
        "import PyPDF2\n",
        "\n",
        "# creating a pdf file object\n",
        "pdfFileObj = open('/content/mb-das-may-2011.pdf', 'rb')\n",
        "\n",
        "# creating a pdf reader object\n",
        "pdfReader = PyPDF2.PdfFileReader(pdfFileObj)\n",
        "\n",
        "# printing number of pages in pdf file\n",
        "print(pdfReader.numPages)\n",
        "for i in range(pdfReader.numPages):\n",
        "  # creating a page object\n",
        "  pageObj = pdfReader.getPage(i)\n",
        "  my=clean_text(pageObj.extractText())\n",
        "  # extracting text from page\n",
        "  print(my)\n",
        "\n",
        "  # closing the pdf file object\n",
        "pdfFileObj.close()\n"
      ],
      "execution_count": null,
      "outputs": [
        {
          "output_type": "stream",
          "text": [
            "3\n",
            "\n",
            "\n",
            "discharge summary\n",
            " \n",
            "patient also see referral by\n",
            " dr tapan kumar das consultant physician dr \n",
            "das consultant cardiothoracic\n",
            " \n",
            "surgeon\n",
            " \n",
            "final diagnosis\n",
            ":\n",
            " \n",
            "squamous cell carcinoma oesophagus middle \n",
            "clinical\n",
            " \n",
            "summary\n",
            ":\n",
            " \n",
            "this gentleman admit history gradually increase \n",
            "dysphagia solid liquid since november upper gi endoscopy reveal ulceroproliferative \n",
            "growth \n",
            "in oesophagus \n",
            "at incision teeth endoscopic bi\n",
            "opsy show squamou\n",
            "s cell \n",
            "carcinoma cect thorax do show locally advanced disease patient give cycle \n",
            "neoadjuvant chemotherapy injection paclitaxel carboplatin follow pet\n",
            "-\n",
            "ct scan show \n",
            "metabolically \n",
            "active mass inf\n",
            "ra\n",
            "c\n",
            "arinal \n",
            "region suggestive residual disease evidence \n",
            "metastatic active disease anywhere else relevant investigation do prior surgery.\n",
            " \n",
            "operative note\n",
            " \n",
            "total radical o\n",
            "esophagectomy\n",
            " \n",
            "(\n",
            "mckeown's\n",
            " oesophagogastrostomy \n",
            "and feedi\n",
            "ng \n",
            "jejunostomy do general anesthesia \n",
            "thoracic \n",
            "epidural anesthesia \n",
            "operative findings\n",
            ":\n",
            " \n",
            "\n",
            " \n",
            "right thoracotomy \n",
            "ics show oesophageal growth extend pulmonary vein \n",
            "to \n",
            "carina \n",
            "and infiltrate aorta one r\n",
            "egion \n",
            "of when\n",
            " \n",
            "little bit tu\n",
            "mour \n",
            "tissue leave behind resection\n",
            " \n",
            "\n",
            " \n",
            "no \n",
            "obvious \n",
            "metastatic lymph node \n",
            "were \n",
            "seen\n",
            ".\n",
            " \n",
            "\n",
            " \n",
            "no evidence metastatic disease \n",
            "was \n",
            "seen\n",
            " \n",
            "the whole procedure take hour complete.\n",
            " \n",
            "postoperative recovery gradual \n",
            "but uneventful contrast swallow study do \n",
            "postoperative \n",
            "\n",
            "eak neck present\n",
            ",\n",
            " \n",
            "patient afebrile haemodynamically \n",
            "stable\n",
            " take liquid orally discharge follow advice \n",
            "-\n",
            " \n",
            "condi\n",
            "tion patient discharge\n",
            ":\n",
            " \n",
            "\n",
            " \n",
            "the patient discharge \n",
            "feeding jejunostomy tube situ.\n",
            " \n",
            "advice discharge\n",
            ":\n",
            " \n",
            "rest \n",
            "restful life home days.\n",
            " \n",
            "diet \n",
            "diet liquid consistency orally litres day feed \n",
            "jej\n",
            "unostomy tube feed litre day\n",
            " \n",
            "(water clear liquids)\n",
            " diet follow \n",
            "per diet chart.\n",
            " \n",
            "total advise fluid intake liberal\n",
            ".\n",
            " \n",
            "syrup digene orally thrice daily continue till advice.\n",
            " \n",
            "syrup ibugesic orally when\n",
            " \n",
            "necessary case pain)\n",
            " \n",
            "resource scoop water time orally continue till advice.\n",
            " \n",
            "ip number:\n",
            " \n",
            "admission date:\n",
            " \n",
            "discharge date:\n",
            " \n",
            "bed no.:\n",
            " \n",
            "admission time:\n",
            " \n",
            "a.m\n",
            ".\n",
            " \n",
            "discharge time:\n",
            " \n",
            "name patient:\n",
            " \n",
            "biplab roy\n",
            " \n",
            "p\n",
            " \n",
            "age \n",
            "years\n",
            " \n",
            "sex \n",
            "male\n",
            " \n",
            "\n",
            " \n",
            "benoy kumar roy\n",
            " \n",
            "address:\n",
            " \n",
            "jhargram west midnapoor)\n",
            " \n",
            "telephone \n",
            "consu\n",
            "\n",
            " \n",
            "dr \n",
            "gautam mukhopadhyay consultant onco surgeon)\n",
            " \n",
            "name patient:\n",
            " \n",
            "bed no.:\n",
            " \n",
            "admission d\n",
            "ate:\n",
            " \n",
            "\n",
            " \n",
            "name patient:\n",
            " \n",
            "biplab roy\n",
            " \n",
            "bed no.:\n",
            " \n",
            "admission date:\n",
            " \n",
            "\n",
            "dr gautam mukhopadhyay consultant onco surgeon)\n",
            "\n",
            "\n",
            "review dr \n",
            "gautam mukhopadhyay \n",
            "after days\n",
            " \n",
            "with histopathological examination \n",
            "report bengal oncology centre \n",
            "or even earlier necessary\n",
            " \n",
            "with prior \n",
            "appointment\n",
            ".\n",
            " \n",
            "regarding query report biopsy applicable hospital service please contact \n",
            "continue treatment regular supervision surgeon/physician choice.\n",
            " \n",
            "consult house \n",
            "physician emergency department ruby general hospital hospital \n",
            "medical problem arises.\n",
            " \n",
            "remain alert drug reaction \n",
            "\n",
            " \n",
            "if itch rash suffocation distress appear \n",
            "taking medicine pu\n",
            "t medicine hold consult physician local physician \n",
            "immediately.\n",
            " \n",
            "investigations\n",
            "-\n",
            "reports enclose please contact front office report pending any.\n",
            " \n",
            "________________________\n",
            " \n",
            "signature mo consultant\n",
            " \n",
            "_______\n",
            "_________________\n",
            " \n",
            "name mo consultant\n",
            " \n",
            "_________________________\n",
            " \n",
            "registration mo consultant\n",
            " \n",
            "declaration guardian patient:\n",
            " \n",
            "copy mention instruction receive understood report old\n",
            " \n",
            "papers \n",
            "other document receive verified.\n",
            " \n",
            "_________\n",
            " \n",
            "signature\n",
            " \n",
            "name\n",
            " \n",
            "relationship\n",
            " \n",
            "date \n",
            "time\n",
            "\n"
          ],
          "name": "stdout"
        }
      ]
    },
    {
      "cell_type": "code",
      "metadata": {
        "colab": {
          "base_uri": "https://localhost:8080/"
        },
        "id": "t05hhSCz8io3",
        "outputId": "fade7f87-ac67-4d36-98e4-9c374aadeca3"
      },
      "source": [
        "keywords = ['summary']\n",
        "if keywords in my.split():\n",
        "  print(\"yes\")\n",
        "else :\n",
        "  print(\"no\")"
      ],
      "execution_count": null,
      "outputs": [
        {
          "output_type": "stream",
          "text": [
            "no\n"
          ],
          "name": "stdout"
        }
      ]
    },
    {
      "cell_type": "code",
      "metadata": {
        "id": "6eWGNva49frX"
      },
      "source": [
        ""
      ],
      "execution_count": null,
      "outputs": []
    }
  ]
}